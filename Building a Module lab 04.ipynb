{
 "cells": [
  {
   "cell_type": "markdown",
   "id": "850fd2ce",
   "metadata": {},
   "source": [
    "<p style=\"text-align:center\">\n",
    "    <a href=\"https://www.edhec.edu/en\" target=\"_blank\">\n",
    "    <img src=\"\thttps://www.edhec.edu/sites/default/files/Logo.png\" width=\"200\" alt=\"Skills Network Logo\"  />\n",
    "    </a>\n",
    "</p>\n",
    "\n",
    "## Completed by: Neo Mmusi"
   ]
  },
  {
   "cell_type": "markdown",
   "id": "82dcc7d4",
   "metadata": {},
   "source": [
    "# Building a Module\n",
    "\n",
    "A module in Python is conceptually not much more than a file with python code in it that you can access and run by importing the module.\n",
    "\n",
    "When you `import` a module, you are reading the file and making the code contained in it accessible through its alias.\n",
    "\n",
    "Start by creating a new file called `hello.py` and add the following message in there:"
   ]
  },
  {
   "cell_type": "code",
   "execution_count": 3,
   "id": "4d0e132f",
   "metadata": {},
   "outputs": [],
   "source": [
    "import pandas as pd"
   ]
  },
  {
   "cell_type": "code",
   "execution_count": 5,
   "id": "05b75c00",
   "metadata": {},
   "outputs": [],
   "source": [
    "import hello as h"
   ]
  },
  {
   "cell_type": "code",
   "execution_count": 6,
   "id": "a3cb9aa8",
   "metadata": {},
   "outputs": [
    {
     "data": {
      "text/plain": [
       "'Hello Jim'"
      ]
     },
     "execution_count": 6,
     "metadata": {},
     "output_type": "execute_result"
    }
   ],
   "source": [
    "h.message"
   ]
  },
  {
   "cell_type": "code",
   "execution_count": 7,
   "id": "78262168",
   "metadata": {},
   "outputs": [
    {
     "data": {
      "text/plain": [
       "'Hello Jim'"
      ]
     },
     "execution_count": 7,
     "metadata": {},
     "output_type": "execute_result"
    }
   ],
   "source": [
    "h.message"
   ]
  },
  {
   "cell_type": "code",
   "execution_count": 8,
   "id": "85646984",
   "metadata": {},
   "outputs": [],
   "source": [
    "import hello as h"
   ]
  },
  {
   "cell_type": "code",
   "execution_count": 9,
   "id": "987dbe2f",
   "metadata": {},
   "outputs": [
    {
     "data": {
      "text/plain": [
       "'Hello Jim'"
      ]
     },
     "execution_count": 9,
     "metadata": {},
     "output_type": "execute_result"
    }
   ],
   "source": [
    "h.message"
   ]
  },
  {
   "cell_type": "code",
   "execution_count": 10,
   "id": "2ff52259",
   "metadata": {},
   "outputs": [],
   "source": [
    "%load_ext autoreload"
   ]
  },
  {
   "cell_type": "code",
   "execution_count": 11,
   "id": "7e831c5c",
   "metadata": {},
   "outputs": [],
   "source": [
    "%autoreload 2"
   ]
  },
  {
   "cell_type": "code",
   "execution_count": 13,
   "id": "c0cdfc19",
   "metadata": {},
   "outputs": [
    {
     "data": {
      "text/plain": [
       "'Hello Jim'"
      ]
     },
     "execution_count": 13,
     "metadata": {},
     "output_type": "execute_result"
    }
   ],
   "source": [
    "h.message"
   ]
  },
  {
   "cell_type": "code",
   "execution_count": 14,
   "id": "4051183e",
   "metadata": {},
   "outputs": [
    {
     "data": {
      "text/plain": [
       "'Hello Neo Mmusi'"
      ]
     },
     "execution_count": 14,
     "metadata": {},
     "output_type": "execute_result"
    }
   ],
   "source": [
    "h.message"
   ]
  },
  {
   "cell_type": "code",
   "execution_count": 15,
   "id": "197fe1fb",
   "metadata": {},
   "outputs": [
    {
     "data": {
      "text/plain": [
       "'Hello Neo Mmusi and Kefilwe'"
      ]
     },
     "execution_count": 15,
     "metadata": {},
     "output_type": "execute_result"
    }
   ],
   "source": [
    "h.message"
   ]
  },
  {
   "cell_type": "code",
   "execution_count": 16,
   "id": "74406e0a",
   "metadata": {},
   "outputs": [
    {
     "name": "stdout",
     "output_type": "stream",
     "text": [
      "The autoreload extension is already loaded. To reload it, use:\n",
      "  %reload_ext autoreload\n"
     ]
    }
   ],
   "source": [
    "%load_ext autoreload\n",
    "%autoreload 2"
   ]
  },
  {
   "cell_type": "code",
   "execution_count": 17,
   "id": "436ae4be",
   "metadata": {},
   "outputs": [],
   "source": [
    "import edhec_risk_kit as erk\n",
    "\n",
    "returns = erk.get_ffme_returns()"
   ]
  },
  {
   "cell_type": "code",
   "execution_count": 18,
   "id": "f0284778",
   "metadata": {},
   "outputs": [
    {
     "data": {
      "text/html": [
       "<div>\n",
       "<style scoped>\n",
       "    .dataframe tbody tr th:only-of-type {\n",
       "        vertical-align: middle;\n",
       "    }\n",
       "\n",
       "    .dataframe tbody tr th {\n",
       "        vertical-align: top;\n",
       "    }\n",
       "\n",
       "    .dataframe thead th {\n",
       "        text-align: right;\n",
       "    }\n",
       "</style>\n",
       "<table border=\"1\" class=\"dataframe\">\n",
       "  <thead>\n",
       "    <tr style=\"text-align: right;\">\n",
       "      <th></th>\n",
       "      <th>SmallCap</th>\n",
       "      <th>LargeCap</th>\n",
       "    </tr>\n",
       "  </thead>\n",
       "  <tbody>\n",
       "    <tr>\n",
       "      <th>1926-07</th>\n",
       "      <td>-0.0145</td>\n",
       "      <td>0.0329</td>\n",
       "    </tr>\n",
       "    <tr>\n",
       "      <th>1926-08</th>\n",
       "      <td>0.0512</td>\n",
       "      <td>0.0370</td>\n",
       "    </tr>\n",
       "    <tr>\n",
       "      <th>1926-09</th>\n",
       "      <td>0.0093</td>\n",
       "      <td>0.0067</td>\n",
       "    </tr>\n",
       "    <tr>\n",
       "      <th>1926-10</th>\n",
       "      <td>-0.0484</td>\n",
       "      <td>-0.0243</td>\n",
       "    </tr>\n",
       "    <tr>\n",
       "      <th>1926-11</th>\n",
       "      <td>-0.0078</td>\n",
       "      <td>0.0270</td>\n",
       "    </tr>\n",
       "  </tbody>\n",
       "</table>\n",
       "</div>"
      ],
      "text/plain": [
       "         SmallCap  LargeCap\n",
       "1926-07   -0.0145    0.0329\n",
       "1926-08    0.0512    0.0370\n",
       "1926-09    0.0093    0.0067\n",
       "1926-10   -0.0484   -0.0243\n",
       "1926-11   -0.0078    0.0270"
      ]
     },
     "execution_count": 18,
     "metadata": {},
     "output_type": "execute_result"
    }
   ],
   "source": [
    "returns.head()"
   ]
  },
  {
   "cell_type": "code",
   "execution_count": 19,
   "id": "96a309c2",
   "metadata": {},
   "outputs": [
    {
     "data": {
      "text/plain": [
       "-0.8330007793945303"
      ]
     },
     "execution_count": 19,
     "metadata": {},
     "output_type": "execute_result"
    }
   ],
   "source": [
    "erk.drawdown(returns[\"SmallCap\"])[\"Drawdown\"].min()"
   ]
  },
  {
   "cell_type": "code",
   "execution_count": 20,
   "id": "9e446b1a",
   "metadata": {},
   "outputs": [
    {
     "data": {
      "text/plain": [
       "-0.6312068077252386"
      ]
     },
     "execution_count": 20,
     "metadata": {},
     "output_type": "execute_result"
    }
   ],
   "source": [
    "erk.drawdown(returns[\"1975\":][\"SmallCap\"])[\"Drawdown\"].min()"
   ]
  },
  {
   "cell_type": "markdown",
   "id": "9b6dca2d",
   "metadata": {},
   "source": [
    "<p style=\"text-align:center\">\n",
    "    <a href=\"https://www.edhec.edu/en\" target=\"_blank\">\n",
    "    <img src=\"\thttps://www.edhec.edu/sites/default/files/Logo.png\" width=\"200\" alt=\"Vijay Vaidyanathan\"  />\n",
    "    </a>\n",
    "</p>\n",
    "\n",
    "## Acknowledgement\n",
    "<div class=\"rc-BannerInstructorInfo rc-BannerInstructorInfo__seo-experiment\"><div class=\"_2lnij6\" style=\"padding-left:0px\"><div class=\"_y1d9czk\"><a data-click-key=\"xdp_v1.xdp.click.nav_item_instructors\" data-click-value=\"{&quot;href&quot;:&quot;#instructors&quot;,&quot;namespace&quot;:{&quot;action&quot;:&quot;click&quot;,&quot;app&quot;:&quot;xdp_v1&quot;,&quot;component&quot;:&quot;nav_item_instructors&quot;,&quot;page&quot;:&quot;xdp&quot;},&quot;s12nId&quot;:&quot;gT9jkZzHEeiUDgozxArl9A&quot;,&quot;schema_type&quot;:&quot;FRONTEND&quot;}\" data-track=\"true\" data-track-app=\"xdp_v1\" data-track-page=\"xdp\" data-track-action=\"click\" data-track-component=\"nav_item_instructors\" data-track-href=\"#instructors\" href=\"#instructors\" to=\"#instructors\"><div class=\"_1qfi0x77\"><div class=\"_1qfi0x77 instructor-count-display\"><img src=\"https://d3njjcbhbojbot.cloudfront.net/api/utilities/v1/imageproxy/https://coursera-instructor-photos.s3.amazonaws.com/e1/73a0d864d547bdaa39b005a3138f7e/Vijay.jpg?auto=format%2Ccompress&amp;dpr=1&amp;w=28&amp;h=\" srcset=\"https://d3njjcbhbojbot.cloudfront.net/api/utilities/v1/imageproxy/https://coursera-instructor-photos.s3.amazonaws.com/e1/73a0d864d547bdaa39b005a3138f7e/Vijay.jpg?auto=format%2Ccompress&amp;dpr=2&amp;w=28&amp;h= 2x, https://d3njjcbhbojbot.cloudfront.net/api/utilities/v1/imageproxy/https://coursera-instructor-photos.s3.amazonaws.com/e1/73a0d864d547bdaa39b005a3138f7e/Vijay.jpg?auto=format%2Ccompress&amp;dpr=3&amp;w=28&amp;h= 3x\" class=\"_1c0nwk\" style=\"max-width: 50px; font-size: 19px; height: 50px; width: 50px; margin-right: 20px;\" alt=\"Image of instructor, Vijay Vaidyanathan, PhD\" role=\"presentation\"><span>Vijay Vaidyanathan, PhD <span class=\"more-instructors underline\">+4 more instructors</span></span>&nbsp;&nbsp;</div></div></a></div></div></div>"
   ]
  },
  {
   "cell_type": "code",
   "execution_count": null,
   "id": "99e9d0b3",
   "metadata": {},
   "outputs": [],
   "source": []
  }
 ],
 "metadata": {
  "kernelspec": {
   "display_name": "Python 3 (ipykernel)",
   "language": "python",
   "name": "python3"
  },
  "language_info": {
   "codemirror_mode": {
    "name": "ipython",
    "version": 3
   },
   "file_extension": ".py",
   "mimetype": "text/x-python",
   "name": "python",
   "nbconvert_exporter": "python",
   "pygments_lexer": "ipython3",
   "version": "3.9.7"
  }
 },
 "nbformat": 4,
 "nbformat_minor": 5
}
